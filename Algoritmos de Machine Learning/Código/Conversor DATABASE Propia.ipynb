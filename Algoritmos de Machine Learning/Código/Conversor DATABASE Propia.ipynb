{
 "cells": [
  {
   "cell_type": "code",
   "execution_count": 1,
   "metadata": {
    "colab": {
     "base_uri": "https://localhost:8080/",
     "height": 35
    },
    "colab_type": "code",
    "id": "l8AX38srAJSm",
    "outputId": "8d098385-77e8-4407-f5fb-a037d53af161"
   },
   "outputs": [],
   "source": [
    "import numpy as np\n",
    "from matplotlib import pyplot as plt\n",
    "import matplotlib.image as img\n",
    "from skimage import io\n",
    "from PIL import Image\n",
    "import cv2\n",
    "import os"
   ]
  },
  {
   "cell_type": "code",
   "execution_count": 2,
   "metadata": {
    "colab": {},
    "colab_type": "code",
    "id": "6J8yILg3_Jki"
   },
   "outputs": [],
   "source": [
    "def conversor(imagen):\n",
    "    col = Image.open(imagen)\n",
    "    bw = col.convert('L')\n",
    "    bw.save(\"bw_image.jpg\") \n",
    "    img_array = cv2.imread(\"bw_image.jpg\", cv2.IMREAD_GRAYSCALE)\n",
    "    img_array = cv2.bitwise_not(img_array)\n",
    "    img_size=28\n",
    "    new_array = cv2.resize(img_array, (img_size,img_size)) \n",
    "    final_array = []\n",
    "    for lista in new_array:\n",
    "        for numero in lista:\n",
    "            final_array.append(float(numero))\n",
    "    final_array = np.array(final_array) \n",
    "    final_array= final_array.reshape(1, -1)\n",
    "    return(final_array)"
   ]
  },
  {
   "cell_type": "code",
   "execution_count": 3,
   "metadata": {
    "colab": {},
    "colab_type": "code",
    "id": "LTInRvV-_8Bp"
   },
   "outputs": [],
   "source": [
    "base_de_datos_ferra = []\n",
    "for i in range (62):\n",
    "    path = os.path.join(\"Base de datos propia\", \"Ferrá\", f\"numero_{i}.png\")\n",
    "    matriz = conversor(path)\n",
    "    base_de_datos_ferra.append(matriz)\n",
    "base_de_datos_ferra = np.array(base_de_datos_ferra)"
   ]
  },
  {
   "cell_type": "code",
   "execution_count": 4,
   "metadata": {},
   "outputs": [],
   "source": [
    "base_de_datos_vicente = []\n",
    "for i in range (62):\n",
    "    path = os.path.join(\"Base de datos propia\", \"Vicente\", f\"{i}.PNG\")\n",
    "    matriz = conversor(path)\n",
    "    base_de_datos_vicente.append(matriz)\n",
    "base_de_datos_vicente = np.array(base_de_datos_vicente)"
   ]
  },
  {
   "cell_type": "code",
   "execution_count": 5,
   "metadata": {},
   "outputs": [],
   "source": [
    "base_de_datos_javier = []\n",
    "for i in range (62):\n",
    "    path = os.path.join(\"Base de datos propia\", \"Javier\", f\"numero_{i}.png\")\n",
    "    matriz = conversor(path)\n",
    "    base_de_datos_javier.append(matriz)\n",
    "base_de_datos_javier = np.array(base_de_datos_javier)"
   ]
  },
  {
   "cell_type": "code",
   "execution_count": 6,
   "metadata": {},
   "outputs": [],
   "source": [
    "base_de_datos_felipe = []\n",
    "for i in range (62):\n",
    "    path = os.path.join(\"Base de datos propia\", \"Felipe\", f\"{i}.PNG\")\n",
    "    matriz = conversor(path)\n",
    "    base_de_datos_felipe.append(matriz)\n",
    "base_de_datos_felipe = np.array(base_de_datos_felipe)"
   ]
  },
  {
   "cell_type": "code",
   "execution_count": 7,
   "metadata": {},
   "outputs": [],
   "source": [
    "base_de_datos_antonia = []\n",
    "for i in range (62):\n",
    "    path = os.path.join(\"Base de datos propia\", \"Antonia\", f\"numero_{i}.jpg\")\n",
    "    matriz = conversor(path)\n",
    "    base_de_datos_antonia.append(matriz)\n",
    "base_de_datos_antonia = np.array(base_de_datos_antonia)"
   ]
  },
  {
   "cell_type": "code",
   "execution_count": 8,
   "metadata": {},
   "outputs": [],
   "source": [
    "base_de_datos_word = []\n",
    "for i in range (62):\n",
    "    path = os.path.join(\"Base de datos propia\", \"Word\", f\"numero_{i}.png\")\n",
    "    matriz = conversor(path)\n",
    "    base_de_datos_word.append(matriz)\n",
    "base_de_datos_word = np.array(base_de_datos_word)"
   ]
  },
  {
   "cell_type": "code",
   "execution_count": 9,
   "metadata": {
    "scrolled": true
   },
   "outputs": [],
   "source": [
    "y_test_all = [i for i in range (62)]"
   ]
  },
  {
   "cell_type": "code",
   "execution_count": 10,
   "metadata": {},
   "outputs": [
    {
     "data": {
      "image/png": "[encoded data removed]",
      "text/plain": [
       "<Figure size 1080x864 with 20 Axes>"
      ]
     },
     "metadata": {},
     "output_type": "display_data"
    }
   ],
   "source": [
    "fig = plt.figure(figsize=(15, 12))\n",
    "for j in range (10, 30):\n",
    "    ax = fig.add_subplot(4, 5, j - 9, xticks=[], yticks=[])\n",
    "    ax.imshow(base_de_datos_vicente.reshape(-1, 28, 28)[j], cmap=plt.cm.binary, interpolation='nearest')"
   ]
  }
 ],
 "metadata": {
  "colab": {
   "name": "conversor_final.ipynb",
   "provenance": []
  },
  "kernelspec": {
   "display_name": "Python 3",
   "language": "python",
   "name": "python3"
  },
  "language_info": {
   "codemirror_mode": {
    "name": "ipython",
    "version": 3
   },
   "file_extension": ".py",
   "mimetype": "text/x-python",
   "name": "python",
   "nbconvert_exporter": "python",
   "pygments_lexer": "ipython3",
   "version": "3.7.7"
  }
 },
 "nbformat": 4,
 "nbformat_minor": 1
}
