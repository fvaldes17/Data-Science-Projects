{
 "cells": [
  {
   "cell_type": "code",
   "execution_count": null,
   "metadata": {},
   "outputs": [],
   "source": [
    "from EMNIST import x_train, y_train, x_test, y_test\n",
    "from sklearn.linear_model import LogisticRegression\n",
    "from random import randint, shuffle\n",
    "from sklearn import metrics\n",
    "from matplotlib import pyplot as plt\n",
    "import numpy as np\n",
    "import pandas as pd\n",
    "import time\n",
    "import database_creada"
   ]
  },
  {
   "cell_type": "code",
   "execution_count": null,
   "metadata": {},
   "outputs": [],
   "source": [
    "clf_lgr = LogisticRegression()"
   ]
  },
  {
   "cell_type": "code",
   "execution_count": null,
   "metadata": {},
   "outputs": [],
   "source": [
    "x_train_lgr = list(x_train)\n",
    "y_train_lgr = y_train\n",
    "x_test_lgr = list(x_test)\n",
    "y_test_lgr = y_test"
   ]
  },
  {
   "cell_type": "code",
   "execution_count": null,
   "metadata": {},
   "outputs": [],
   "source": [
    "clf_lgr.fit(x_train_lgr, y_train_lgr)"
   ]
  },
  {
   "cell_type": "code",
   "execution_count": null,
   "metadata": {},
   "outputs": [],
   "source": [
    "predicted_lgr = clf_lgr.predict(x_test_lgr)\n",
    "expected_lgr = y_test_lgr"
   ]
  },
  {
   "cell_type": "code",
   "execution_count": null,
   "metadata": {},
   "outputs": [],
   "source": [
    "x_test_lgr = np.array(x_test_lgr)"
   ]
  },
  {
   "cell_type": "code",
   "execution_count": null,
   "metadata": {},
   "outputs": [],
   "source": [
    "fig = plt.figure(figsize=(15, 15))\n",
    "fig.subplots_adjust(left=0, right=1, bottom=0, top=1, hspace=0.05, wspace=0.05)\n",
    "for j in range(256):\n",
    "    i = randint(0, len(predicted_lgr) - 1)\n",
    "    ax = fig.add_subplot(16, 16, j + 1, xticks=[], yticks=[])\n",
    "    ax.imshow(x_test_lgr.reshape(-1, 28, 28)[i], cmap=plt.cm.binary, interpolation='nearest')\n",
    "    if predicted_lgr[i] == expected_lgr[i]:\n",
    "        ax.text(0, 7, str(predicted_lgr[i]), fontsize=20, color='green')\n",
    "    else:\n",
    "        ax.text(0, 7, str(predicted_lgr[i]), fontsize=20, color='red')\n",
    "ax.axis(\"on\")\n",
    "fig.savefig('LGR EMNIST DESBALANCEADO.png', dpi=fig.dpi, edgecolor=\"purple\")"
   ]
  },
  {
   "cell_type": "code",
   "execution_count": null,
   "metadata": {},
   "outputs": [],
   "source": [
    "print(metrics.classification_report(expected_lgr, predicted_lgr))"
   ]
  },
  {
   "cell_type": "code",
   "execution_count": null,
   "metadata": {},
   "outputs": [],
   "source": [
    "df = pd.DataFrame(metrics.confusion_matrix(expected_lgr, predicted_lgr))\n",
    "with pd.option_context('display.max_rows', None, 'display.max_columns', None):\n",
    "    display(df)"
   ]
  },
  {
   "cell_type": "code",
   "execution_count": null,
   "metadata": {
    "scrolled": true
   },
   "outputs": [],
   "source": [
    "train_counts = list()\n",
    "y_train_lgr = list(y_train)\n",
    "for i in range (62):\n",
    "    train_counts.append(y_train_lgr.count(i))\n",
    "train_counts"
   ]
  },
  {
   "cell_type": "code",
   "execution_count": null,
   "metadata": {},
   "outputs": [],
   "source": [
    "for i in range (len(y_train_lgr)):\n",
    "    y_train_lgr[i] = [y_train_lgr[i], i]"
   ]
  },
  {
   "cell_type": "code",
   "execution_count": null,
   "metadata": {},
   "outputs": [],
   "source": [
    "y_train_lgr.sort()"
   ]
  },
  {
   "cell_type": "code",
   "execution_count": null,
   "metadata": {},
   "outputs": [],
   "source": [
    "x_train_balanced = list()\n",
    "y_train_balanced = list()\n",
    "n = 1895\n",
    "intervalos = list()\n",
    "for i in range (62):\n",
    "    inf = sum(train_counts[:i]) + 1\n",
    "    inf_mas_1 = sum(train_counts[:i+1])\n",
    "    sup = min(inf + n, inf_mas_1)\n",
    "    intervalos.append([inf, sup])\n",
    "for i in range (62):\n",
    "    y_train_balanced.extend(y_train_lgr[intervalos[i][0]:intervalos[i][1]])\n",
    "shuffle(y_train_balanced)\n",
    "for i in range (len(y_train_balanced)):\n",
    "    x_train_balanced.append(x_train[y_train_balanced[i][1]])\n",
    "    y_train_balanced[i] = y_train_balanced[i][0]"
   ]
  },
  {
   "cell_type": "code",
   "execution_count": null,
   "metadata": {},
   "outputs": [],
   "source": [
    "train_counts2 = list()\n",
    "for i in range (62):\n",
    "    train_counts2.append(y_train_balanced.count(i))"
   ]
  },
  {
   "cell_type": "code",
   "execution_count": null,
   "metadata": {},
   "outputs": [],
   "source": [
    "clases62 = \"0123456789ABCDEFGHIJKLMNOPQRSTUVWXYZabcdefghijklmnopqrstuvwxyz\""
   ]
  },
  {
   "cell_type": "code",
   "execution_count": null,
   "metadata": {},
   "outputs": [],
   "source": [
    "plt.figure(figsize=(5, 5))\n",
    "random_numero = randint(0, len(x_train_balanced))\n",
    "plt.imshow(x_train_balanced[random_numero].reshape(28, 28), cmap=plt.cm.binary, interpolation='nearest')\n",
    "print(clases62[y_train_balanced[random_numero]])"
   ]
  },
  {
   "cell_type": "code",
   "execution_count": null,
   "metadata": {},
   "outputs": [],
   "source": [
    "inicio = time.time()\n",
    "clf_lgr2 = LogisticRegression()\n",
    "clf_lgr2.fit(x_train_balanced, y_train_balanced)\n",
    "fin = time.time()\n",
    "print(fin - inicio)"
   ]
  },
  {
   "cell_type": "code",
   "execution_count": null,
   "metadata": {},
   "outputs": [],
   "source": [
    "y_test_lgr = list(y_test)\n",
    "test_counts = list()\n",
    "for i in range (61):\n",
    "    test_counts.append(y_test_lgr.count(i))"
   ]
  },
  {
   "cell_type": "code",
   "execution_count": null,
   "metadata": {},
   "outputs": [],
   "source": [
    "for i in range (len(y_test)):\n",
    "    y_test_lgr[i] = [y_test[i], i]\n",
    "y_test_lgr.sort()"
   ]
  },
  {
   "cell_type": "code",
   "execution_count": null,
   "metadata": {},
   "outputs": [],
   "source": [
    "x_test_balanced = list()\n",
    "y_test_balanced = list()\n",
    "n = 317\n",
    "intervalos = list()\n",
    "for i in range (62):\n",
    "    inf = sum(test_counts[:i]) + 1\n",
    "    sup = inf + n\n",
    "    intervalos.append([inf, sup])\n",
    "for i in range (62):\n",
    "    y_test_balanced.extend(y_test_lgr[intervalos[i][0]:intervalos[i][1]])\n",
    "shuffle(y_test_balanced)\n",
    "for i in range (len(y_test_balanced)):\n",
    "    x_test_balanced.append(x_test[y_test_balanced[i][1]])\n",
    "    y_test_balanced[i] = y_test_balanced[i][0]"
   ]
  },
  {
   "cell_type": "code",
   "execution_count": null,
   "metadata": {},
   "outputs": [],
   "source": [
    "predicted_lgr = clf_lgr.predict(x_test_balanced)\n",
    "expected_lgr = y_test_balanced\n",
    "predicted_lgr2 = clf_lgr2.predict(x_test_balanced)\n",
    "expected_lgr2 = y_test_balanced"
   ]
  },
  {
   "cell_type": "code",
   "execution_count": null,
   "metadata": {
    "scrolled": true
   },
   "outputs": [],
   "source": [
    "print(metrics.classification_report(expected_lgr3, predicted_lgr3))"
   ]
  },
  {
   "cell_type": "code",
   "execution_count": null,
   "metadata": {
    "scrolled": false
   },
   "outputs": [],
   "source": [
    "df = pd.DataFrame(metrics.confusion_matrix(expected_lgr2, predicted_lgr2))\n",
    "with pd.option_context('display.max_rows', None, 'display.max_columns', None):\n",
    "    display(df)"
   ]
  },
  {
   "cell_type": "code",
   "execution_count": null,
   "metadata": {
    "scrolled": false
   },
   "outputs": [],
   "source": [
    "df = pd.DataFrame(metrics.confusion_matrix(expected_lgr, predicted_lgr))\n",
    "with pd.option_context('display.max_rows', None, 'display.max_columns', None):\n",
    "    display(df)"
   ]
  },
  {
   "cell_type": "code",
   "execution_count": null,
   "metadata": {
    "scrolled": false
   },
   "outputs": [],
   "source": [
    "print(metrics.classification_report(expected_lgr, predicted_lgr))"
   ]
  },
  {
   "cell_type": "markdown",
   "metadata": {},
   "source": [
    "# Clasificación de Base de Datos creada por nosotros"
   ]
  },
  {
   "cell_type": "code",
   "execution_count": null,
   "metadata": {},
   "outputs": [],
   "source": [
    "expected_grupo = database_creada.y_test_all"
   ]
  },
  {
   "cell_type": "code",
   "execution_count": null,
   "metadata": {},
   "outputs": [],
   "source": [
    "predicted_ferra = clf_lgr2.predict(database_creada.base_de_datos_ferra)\n",
    "predicted_vicente = clf_lgr2.predict(database_creada.base_de_datos_vicente)\n",
    "predicted_javier = clf_lgr2.predict(database_creada.base_de_datos_javier)\n",
    "predicted_antonia = clf_lgr2.predict(database_creada.base_de_datos_antonia)\n",
    "predicted_felipe = clf_lgr2.predict(database_creada.base_de_datos_felipe)\n",
    "predicted_word = clf_lgr2.predict(database_creada.base_de_datos_word)"
   ]
  },
  {
   "cell_type": "code",
   "execution_count": null,
   "metadata": {
    "scrolled": true
   },
   "outputs": [],
   "source": [
    "print(metrics.classification_report(expected_grupo, predicted_ferra))"
   ]
  },
  {
   "cell_type": "code",
   "execution_count": null,
   "metadata": {
    "scrolled": true
   },
   "outputs": [],
   "source": [
    "print(metrics.classification_report(expected_grupo, predicted_vicente))"
   ]
  },
  {
   "cell_type": "code",
   "execution_count": null,
   "metadata": {
    "scrolled": true
   },
   "outputs": [],
   "source": [
    "print(metrics.classification_report(expected_grupo, predicted_javier))"
   ]
  },
  {
   "cell_type": "code",
   "execution_count": null,
   "metadata": {
    "scrolled": true
   },
   "outputs": [],
   "source": [
    "print(metrics.classification_report(expected_grupo, predicted_antonia))"
   ]
  },
  {
   "cell_type": "code",
   "execution_count": null,
   "metadata": {
    "scrolled": true
   },
   "outputs": [],
   "source": [
    "print(metrics.classification_report(expected_grupo, predicted_felipe))"
   ]
  },
  {
   "cell_type": "code",
   "execution_count": null,
   "metadata": {
    "scrolled": true
   },
   "outputs": [],
   "source": [
    "print(metrics.classification_report(expected_grupo, predicted_word))"
   ]
  },
  {
   "cell_type": "code",
   "execution_count": null,
   "metadata": {},
   "outputs": [],
   "source": [
    "data_propia = [round(metrics.accuracy_score(expected_grupo, predicted_felipe), 2), \\\n",
    "        round(metrics.accuracy_score(expected_grupo, predicted_ferra), 2), \\\n",
    "        round(metrics.accuracy_score(expected_grupo, predicted_antonia), 2), \\\n",
    "        round(metrics.accuracy_score(expected_grupo, predicted_javier), 2), \\\n",
    "               round(metrics.accuracy_score(expected_grupo, predicted_vicente), 2), \\\n",
    "        round(metrics.accuracy_score(expected_grupo, predicted_word), 2)]\n",
    "index = [\"F. Valdés\", \"S. Ferrá\", \"A. Reyes\", \"J. Takahashi\", \"V. Agüero\", \"Arial Black\"]\n",
    "df_database_propia = pd.DataFrame(data_propia, index = index, columns=[\"Accuracy\"])\n",
    "df_database_propia"
   ]
  }
 ],
 "metadata": {
  "kernelspec": {
   "display_name": "Python 3",
   "language": "python",
   "name": "python3"
  },
  "language_info": {
   "codemirror_mode": {
    "name": "ipython",
    "version": 3
   },
   "file_extension": ".py",
   "mimetype": "text/x-python",
   "name": "python",
   "nbconvert_exporter": "python",
   "pygments_lexer": "ipython3",
   "version": "3.7.7"
  }
 },
 "nbformat": 4,
 "nbformat_minor": 4
}
